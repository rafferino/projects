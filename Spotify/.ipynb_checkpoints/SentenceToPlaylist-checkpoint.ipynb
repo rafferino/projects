{
 "cells": [
  {
   "cell_type": "code",
   "execution_count": 1,
   "metadata": {},
   "outputs": [
    {
     "name": "stdout",
     "output_type": "stream",
     "text": [
      "finished importing modules...\n",
      "finished parsing config...\n",
      "finished authorization...\n",
      "spotify object created!\n"
     ]
    }
   ],
   "source": [
    "from SpotifyClient import spotify\n",
    "from SpotifyObjects import *"
   ]
  },
  {
   "cell_type": "code",
   "execution_count": 2,
   "metadata": {},
   "outputs": [
    {
     "data": {
      "text/plain": [
       "[Word 4 Word by [Moneybagg Yo],\n",
       " Kill A Word by [Eric Church],\n",
       " I Won't Give Up by [Jason Mraz],\n",
       " Word On The Street by [Lil Baby],\n",
       " Word Up by [Cameo],\n",
       " RISE by [League of Legends, The Glitch Mob, Mako],\n",
       " Rollout (My Business) by [Ludacris],\n",
       " Word Up! by [Korn],\n",
       " Shadrach - Mum's The Word Remix by [Beastie Boys],\n",
       " Candy by [Cameo]]"
      ]
     },
     "execution_count": 2,
     "metadata": {},
     "output_type": "execute_result"
    }
   ],
   "source": [
    "tracks = spotify.getTracks(\"word\")\n",
    "tracks"
   ]
  },
  {
   "cell_type": "code",
   "execution_count": 15,
   "metadata": {},
   "outputs": [
    {
     "data": {
      "text/plain": [
       "['Word 4 Word',\n",
       " 'Kill A Word',\n",
       " \"I Won't Give Up\",\n",
       " 'Word On The Street',\n",
       " 'Word Up',\n",
       " 'RISE',\n",
       " 'Rollout (My Business)',\n",
       " \"Shadrach - Mum's The Word Remix\",\n",
       " 'Word Up!',\n",
       " 'Candy',\n",
       " 'Move Bitch',\n",
       " 'Bird Is The Word',\n",
       " 'dont say a word',\n",
       " 'Word of God Speak',\n",
       " 'Sorry Seems To Be The Hardest Word',\n",
       " 'Say The Word',\n",
       " 'Area Codes',\n",
       " 'Why Am I Like This?',\n",
       " 'Energy - Spoken Word with Elena Brower',\n",
       " 'Word Up!',\n",
       " 'The Last Word (ASOT 924) - Mark Bester Remix',\n",
       " 'Word Of Life',\n",
       " 'Great Falls - Spoken Word with Elena Brower',\n",
       " 'Night Light - Spoken Word with Elena Brower',\n",
       " \"Don't Leave - Spoken Word with Elena Brower\",\n",
       " 'Misery',\n",
       " 'Word Crimes',\n",
       " 'Grease - 2007 Remaster',\n",
       " 'Energy (ABGT340) - Spoken Word with Elena Brower',\n",
       " 'Slow Buchla Sunshine - Spoken Word with Elena Brower',\n",
       " 'Great Falls (ABGT340) - Spoken Word with Elena Brower',\n",
       " 'Night Light (ABGT340) - Spoken Word with Elena Brower',\n",
       " \"Don't Leave (ABGT340) - Spoken Word with Elena Brower\",\n",
       " 'Could This Be Love',\n",
       " 'Slow Buchla Sunshine (ABGT340) - Spoken Word with Elena Brower',\n",
       " 'The Worse Word',\n",
       " 'Trapped',\n",
       " 'Sorry Seems To Be The Hardest Word',\n",
       " 'The Word - Remastered 2009',\n",
       " 'Word Around Town (feat. Rich Homie Quan)',\n",
       " 'L*** Is A Bad Word',\n",
       " 'Better Word',\n",
       " 'WORD',\n",
       " '93 Million Miles',\n",
       " 'Word to the Wise',\n",
       " 'Woman Is a Word',\n",
       " \"Blackman's Word (Black Man's Pride)\",\n",
       " 'Word Of Life',\n",
       " 'I Turned My Back on the Written Word',\n",
       " 'The Hardest Word Is Goodbye - Acoustic']"
      ]
     },
     "execution_count": 15,
     "metadata": {},
     "output_type": "execute_result"
    }
   ],
   "source": [
    "n = [track.name for track in tracks]\n",
    "n"
   ]
  },
  {
   "cell_type": "code",
   "execution_count": 47,
   "metadata": {},
   "outputs": [],
   "source": [
    "def sentence_to_playlist(sentence):\n",
    "    for word in sentence.split(' '):\n",
    "        tracks = spotify.search(word, type=\"track\", limit=50)['tracks']['items']\n",
    "        print(tracks[0]['name'])"
   ]
  },
  {
   "cell_type": "code",
   "execution_count": 71,
   "metadata": {},
   "outputs": [
    {
     "name": "stdout",
     "output_type": "stream",
     "text": [
      "dict_keys(['album', 'artists', 'available_markets', 'disc_number', 'duration_ms', 'explicit', 'external_ids', 'external_urls', 'href', 'id', 'is_local', 'name', 'popularity', 'preview_url', 'track_number', 'type', 'uri'])\n"
     ]
    }
   ],
   "source": [
    "tracks = spotify.search(\"Yes\", type=\"track\", limit=50)['tracks']['items']\n",
    "print(tracks[0].keys())"
   ]
  },
  {
   "cell_type": "code",
   "execution_count": 72,
   "metadata": {},
   "outputs": [
    {
     "data": {
      "text/plain": [
       "5"
      ]
     },
     "execution_count": 72,
     "metadata": {},
     "output_type": "execute_result"
    }
   ],
   "source": [
    "tracks[0]['track_number']"
   ]
  },
  {
   "cell_type": "code",
   "execution_count": 74,
   "metadata": {},
   "outputs": [
    {
     "data": {
      "text/plain": [
       "'track'"
      ]
     },
     "execution_count": 74,
     "metadata": {},
     "output_type": "execute_result"
    }
   ],
   "source": [
    "tracks[2]['type']"
   ]
  },
  {
   "cell_type": "code",
   "execution_count": null,
   "metadata": {},
   "outputs": [],
   "source": []
  }
 ],
 "metadata": {
  "kernelspec": {
   "display_name": "Python 3",
   "language": "python",
   "name": "python3"
  },
  "language_info": {
   "codemirror_mode": {
    "name": "ipython",
    "version": 3
   },
   "file_extension": ".py",
   "mimetype": "text/x-python",
   "name": "python",
   "nbconvert_exporter": "python",
   "pygments_lexer": "ipython3",
   "version": "3.6.8"
  }
 },
 "nbformat": 4,
 "nbformat_minor": 2
}
