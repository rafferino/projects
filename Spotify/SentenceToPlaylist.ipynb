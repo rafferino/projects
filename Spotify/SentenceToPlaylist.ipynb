{
 "cells": [
  {
   "cell_type": "code",
   "execution_count": 1,
   "metadata": {},
   "outputs": [
    {
     "name": "stdout",
     "output_type": "stream",
     "text": [
      "finished importing modules...\n",
      "finished parsing config...\n",
      "finished authorization...\n",
      "spotify object created!\n"
     ]
    }
   ],
   "source": [
    "from SpotifyClient import spotify\n",
    "from SpotifyObjects import *"
   ]
  },
  {
   "cell_type": "code",
   "execution_count": 2,
   "metadata": {},
   "outputs": [
    {
     "data": {
      "text/plain": [
       "[Word 4 Word by Moneybagg Yo,\n",
       " Kill A Word by Eric Church,\n",
       " I Won't Give Up by Jason Mraz,\n",
       " Word On The Street by Lil Baby,\n",
       " Word Up by Cameo,\n",
       " RISE by League of Legends,The Glitch Mob,Mako,The Word Alive,\n",
       " Rollout (My Business) by Ludacris,\n",
       " Word Up! by Korn,\n",
       " Shadrach - Mum's The Word Remix by Beastie Boys and Mum's The Word,\n",
       " Candy by Cameo]"
      ]
     },
     "execution_count": 2,
     "metadata": {},
     "output_type": "execute_result"
    }
   ],
   "source": [
    "tracks = spotify.getTracks(\"word\")\n",
    "tracks"
   ]
  },
  {
   "cell_type": "code",
   "execution_count": 3,
   "metadata": {},
   "outputs": [
    {
     "data": {
      "text/plain": [
       "\"x [Word 4 Word by Moneybagg Yo, Kill A Word by Eric Church, I Won't Give Up by Jason Mraz, Word On The Street by Lil Baby, Word Up by Cameo, RISE by League of Legends,The Glitch Mob,Mako,The Word Alive, Rollout (My Business) by Ludacris, Word Up! by Korn, Shadrach - Mum's The Word Remix by Beastie Boys and Mum's The Word, Candy by Cameo]\""
      ]
     },
     "execution_count": 3,
     "metadata": {},
     "output_type": "execute_result"
    }
   ],
   "source": []
  },
  {
   "cell_type": "code",
   "execution_count": 47,
   "metadata": {},
   "outputs": [],
   "source": [
    "def sentence_to_playlist(sentence):\n",
    "    for word in sentence.split(' '):\n",
    "        tracks = spotify.search(word, type=\"track\", limit=50)['tracks']['items']\n",
    "        print(tracks[0]['name'])"
   ]
  },
  {
   "cell_type": "code",
   "execution_count": 71,
   "metadata": {},
   "outputs": [
    {
     "name": "stdout",
     "output_type": "stream",
     "text": [
      "dict_keys(['album', 'artists', 'available_markets', 'disc_number', 'duration_ms', 'explicit', 'external_ids', 'external_urls', 'href', 'id', 'is_local', 'name', 'popularity', 'preview_url', 'track_number', 'type', 'uri'])\n"
     ]
    }
   ],
   "source": [
    "tracks = spotify.search(\"Yes\", type=\"track\", limit=50)['tracks']['items']\n",
    "print(tracks[0].keys())"
   ]
  },
  {
   "cell_type": "code",
   "execution_count": 72,
   "metadata": {},
   "outputs": [
    {
     "data": {
      "text/plain": [
       "5"
      ]
     },
     "execution_count": 72,
     "metadata": {},
     "output_type": "execute_result"
    }
   ],
   "source": [
    "tracks[0]['track_number']"
   ]
  },
  {
   "cell_type": "code",
   "execution_count": 74,
   "metadata": {},
   "outputs": [
    {
     "data": {
      "text/plain": [
       "'track'"
      ]
     },
     "execution_count": 74,
     "metadata": {},
     "output_type": "execute_result"
    }
   ],
   "source": [
    "tracks[2]['type']"
   ]
  },
  {
   "cell_type": "code",
   "execution_count": 5,
   "metadata": {},
   "outputs": [
    {
     "data": {
      "text/plain": [
       "[1, 2]"
      ]
     },
     "execution_count": 5,
     "metadata": {},
     "output_type": "execute_result"
    }
   ],
   "source": [
    "a = [1,2,3]\n",
    "a[:-1]"
   ]
  },
  {
   "cell_type": "code",
   "execution_count": null,
   "metadata": {},
   "outputs": [],
   "source": []
  }
 ],
 "metadata": {
  "kernelspec": {
   "display_name": "Python 3",
   "language": "python",
   "name": "python3"
  },
  "language_info": {
   "codemirror_mode": {
    "name": "ipython",
    "version": 3
   },
   "file_extension": ".py",
   "mimetype": "text/x-python",
   "name": "python",
   "nbconvert_exporter": "python",
   "pygments_lexer": "ipython3",
   "version": "3.6.8"
  }
 },
 "nbformat": 4,
 "nbformat_minor": 2
}
